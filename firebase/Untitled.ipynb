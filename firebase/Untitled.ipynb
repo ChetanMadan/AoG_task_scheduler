{
 "cells": [
  {
   "cell_type": "code",
   "execution_count": 2,
   "metadata": {},
   "outputs": [
    {
     "name": "stdout",
     "output_type": "stream",
     "text": [
      "{'clean my room': {'priority': 'normal', 'status': 'pending', 'time': {'amount': 40, 'unit': 'min'}}, 'go to the doctor': {'priority': 'high', 'status': 'pending', 'time': {'amount': 50, 'unit': 'min'}}, 'go to the market': {'priority': 'normal', 'status': 'pending', 'time': {'amount': 20, 'unit': 'min'}}, 'listen to music': {'priority': 'normal', 'status': 'pending', 'time': {'amount': 30, 'unit': 'min'}}, 'play': {'priority': 'high', 'status': 'pending', 'time': {'amount': 8, 'unit': 'h'}}, 'study': {'priority': 'high', 'status': 'pending', 'time': {'amount': 1, 'unit': 'h'}}, 'write research paper': {'priority': 'high', 'status': 'pending', 'time': {'amount': 3, 'unit': 'h'}}}\n",
      "{'clean': {'priority': 'normal'}}\n"
     ]
    }
   ],
   "source": [
    "\n",
    "from firebase import firebase  \t#imports firebase module\n",
    "from sys import argv\t\t\t#imports argv for taking arguments\n",
    "\n",
    "operation = 'fetch'\t\t\t#gets argument inside code\n",
    "\n",
    "\n",
    "\n",
    "firebase = firebase.FirebaseApplication(\"https://bafyc-aog-task-scheduler.firebaseio.com/\") \t#initialize firebase app\n",
    "note = \"faf\"\n",
    "\n",
    "if(operation=='fetch'):\n",
    "\n",
    "\t#FETCHES THE ENTIRE DATABASE FROM FIREBASE (dictionary format)\n",
    "\tres = firebase.get('/', None) \n",
    "\t\n",
    "\t#prints the dictionary elementwise\n",
    "\tfor key in res:\n",
    "\t\tprint (res[key])\n",
    "\n",
    "\n",
    "\n",
    "elif(operation=='add'):\n",
    "\n",
    "\t#ADDS AN ELEMENT TO THE DATABASE\n",
    "\tres = firebase.post('/', note)\n",
    "\t\n",
    "\t#prints confirmation\n",
    "\tprint ('Note added successfully')\n",
    "\n",
    "\n",
    "\n",
    "elif(operation=='delete'):\n",
    "\n",
    "\t#FETCHES THE ENTIRE DATABASE FROM FIREBASE (dictionary format)\n",
    "\tres = firebase.get('/', None)\n",
    "\n",
    "\t#finds mathing key in database\n",
    "\tfor key in res:\n",
    "\t\t\n",
    "\t\t#Finds the corresponding key\n",
    "\t\tif (res[key]==note):\n",
    "\n",
    "\t\t\t#removes that key from database\n",
    "\t\t\tfirebase.delete('/',key)\n",
    "\n",
    "\t#prints confirmation\t\t\n",
    "\tprint ('Note deleted successfully')\n",
    "else:\n",
    "    print(\"invalid command\")"
   ]
  },
  {
   "cell_type": "code",
   "execution_count": 7,
   "metadata": {},
   "outputs": [
    {
     "data": {
      "text/plain": [
       "{'priority': 'normal',\n",
       " 'status': 'pending',\n",
       " 'time': {'amount': 40, 'unit': 'min'}}"
      ]
     },
     "execution_count": 7,
     "metadata": {},
     "output_type": "execute_result"
    }
   ],
   "source": [
    "res['user_id']['clean my room']"
   ]
  },
  {
   "cell_type": "code",
   "execution_count": null,
   "metadata": {},
   "outputs": [],
   "source": []
  }
 ],
 "metadata": {
  "kernelspec": {
   "display_name": "Python 3",
   "language": "python",
   "name": "python3"
  },
  "language_info": {
   "codemirror_mode": {
    "name": "ipython",
    "version": 3
   },
   "file_extension": ".py",
   "mimetype": "text/x-python",
   "name": "python",
   "nbconvert_exporter": "python",
   "pygments_lexer": "ipython3",
   "version": "3.6.8"
  }
 },
 "nbformat": 4,
 "nbformat_minor": 2
}
